{
  "nbformat": 4,
  "nbformat_minor": 0,
  "metadata": {
    "kernelspec": {
      "display_name": "Python 3",
      "language": "python",
      "name": "python3"
    },
    "language_info": {
      "codemirror_mode": {
        "name": "ipython",
        "version": 3
      },
      "file_extension": ".py",
      "mimetype": "text/x-python",
      "name": "python",
      "nbconvert_exporter": "python",
      "pygments_lexer": "ipython3",
      "version": "3.7.3"
    },
    "colab": {
      "name": "fraud detection.ipynb",
      "provenance": [],
      "collapsed_sections": [],
      "toc_visible": true
    }
  },
  "cells": [
    {
      "cell_type": "code",
      "metadata": {
        "id": "nM81eVL4-0HQ",
        "colab_type": "code",
        "colab": {}
      },
      "source": [
        "import pandas as pd\n",
        "import numpy as np\n",
        "from sklearn.model_selection import train_test_split"
      ],
      "execution_count": 0,
      "outputs": []
    },
    {
      "cell_type": "code",
      "metadata": {
        "id": "oBI4wcCf-0HX",
        "colab_type": "code",
        "colab": {}
      },
      "source": [
        "df = pd.read_csv('credit_card_data.csv')"
      ],
      "execution_count": 0,
      "outputs": []
    },
    {
      "cell_type": "code",
      "metadata": {
        "id": "qUr7nHfw-0Hb",
        "colab_type": "code",
        "outputId": "a98cd6e4-634d-483f-e313-65b5c050e762",
        "colab": {
          "base_uri": "https://localhost:8080/",
          "height": 257
        }
      },
      "source": [
        "df.head()"
      ],
      "execution_count": 0,
      "outputs": [
        {
          "output_type": "execute_result",
          "data": {
            "text/html": [
              "<div>\n",
              "<style scoped>\n",
              "    .dataframe tbody tr th:only-of-type {\n",
              "        vertical-align: middle;\n",
              "    }\n",
              "\n",
              "    .dataframe tbody tr th {\n",
              "        vertical-align: top;\n",
              "    }\n",
              "\n",
              "    .dataframe thead th {\n",
              "        text-align: right;\n",
              "    }\n",
              "</style>\n",
              "<table border=\"1\" class=\"dataframe\">\n",
              "  <thead>\n",
              "    <tr style=\"text-align: right;\">\n",
              "      <th></th>\n",
              "      <th>Merchant_id</th>\n",
              "      <th>Average Amount/transaction/day</th>\n",
              "      <th>Transaction_amount</th>\n",
              "      <th>Is declined</th>\n",
              "      <th>Total Number of declines/day</th>\n",
              "      <th>isForeignTransaction</th>\n",
              "      <th>isHighRiskCountry</th>\n",
              "      <th>Daily_chargeback_avg_amt</th>\n",
              "      <th>6_month_avg_chbk_amt</th>\n",
              "      <th>6-month_chbk_freq</th>\n",
              "      <th>isFradulent</th>\n",
              "    </tr>\n",
              "  </thead>\n",
              "  <tbody>\n",
              "    <tr>\n",
              "      <th>0</th>\n",
              "      <td>3160040998</td>\n",
              "      <td>100.0</td>\n",
              "      <td>3000.0</td>\n",
              "      <td>N</td>\n",
              "      <td>5</td>\n",
              "      <td>Y</td>\n",
              "      <td>Y</td>\n",
              "      <td>0</td>\n",
              "      <td>0.0</td>\n",
              "      <td>0</td>\n",
              "      <td>Y</td>\n",
              "    </tr>\n",
              "    <tr>\n",
              "      <th>1</th>\n",
              "      <td>3160040998</td>\n",
              "      <td>100.0</td>\n",
              "      <td>4300.0</td>\n",
              "      <td>N</td>\n",
              "      <td>5</td>\n",
              "      <td>Y</td>\n",
              "      <td>Y</td>\n",
              "      <td>0</td>\n",
              "      <td>0.0</td>\n",
              "      <td>0</td>\n",
              "      <td>Y</td>\n",
              "    </tr>\n",
              "    <tr>\n",
              "      <th>2</th>\n",
              "      <td>3160041896</td>\n",
              "      <td>185.5</td>\n",
              "      <td>4823.0</td>\n",
              "      <td>Y</td>\n",
              "      <td>5</td>\n",
              "      <td>N</td>\n",
              "      <td>N</td>\n",
              "      <td>0</td>\n",
              "      <td>0.0</td>\n",
              "      <td>0</td>\n",
              "      <td>Y</td>\n",
              "    </tr>\n",
              "    <tr>\n",
              "      <th>3</th>\n",
              "      <td>3160141996</td>\n",
              "      <td>185.5</td>\n",
              "      <td>5008.5</td>\n",
              "      <td>Y</td>\n",
              "      <td>8</td>\n",
              "      <td>N</td>\n",
              "      <td>N</td>\n",
              "      <td>0</td>\n",
              "      <td>0.0</td>\n",
              "      <td>0</td>\n",
              "      <td>Y</td>\n",
              "    </tr>\n",
              "    <tr>\n",
              "      <th>4</th>\n",
              "      <td>3160241992</td>\n",
              "      <td>500.0</td>\n",
              "      <td>26000.0</td>\n",
              "      <td>N</td>\n",
              "      <td>0</td>\n",
              "      <td>Y</td>\n",
              "      <td>Y</td>\n",
              "      <td>800</td>\n",
              "      <td>677.2</td>\n",
              "      <td>6</td>\n",
              "      <td>Y</td>\n",
              "    </tr>\n",
              "  </tbody>\n",
              "</table>\n",
              "</div>"
            ],
            "text/plain": [
              "   Merchant_id  Average Amount/transaction/day  ...  6-month_chbk_freq isFradulent\n",
              "0   3160040998                           100.0  ...                  0           Y\n",
              "1   3160040998                           100.0  ...                  0           Y\n",
              "2   3160041896                           185.5  ...                  0           Y\n",
              "3   3160141996                           185.5  ...                  0           Y\n",
              "4   3160241992                           500.0  ...                  6           Y\n",
              "\n",
              "[5 rows x 11 columns]"
            ]
          },
          "metadata": {
            "tags": []
          },
          "execution_count": 5
        }
      ]
    },
    {
      "cell_type": "code",
      "metadata": {
        "id": "-cAh2UVd-0Hf",
        "colab_type": "code",
        "outputId": "96bfaf11-8bc9-4262-f12e-29651ceae694",
        "colab": {
          "base_uri": "https://localhost:8080/",
          "height": 225
        }
      },
      "source": [
        "df.isnull().sum()"
      ],
      "execution_count": 0,
      "outputs": [
        {
          "output_type": "execute_result",
          "data": {
            "text/plain": [
              "Merchant_id                       0\n",
              "Average Amount/transaction/day    0\n",
              "Transaction_amount                0\n",
              "Is declined                       0\n",
              "Total Number of declines/day      0\n",
              "isForeignTransaction              0\n",
              "isHighRiskCountry                 0\n",
              "Daily_chargeback_avg_amt          0\n",
              "6_month_avg_chbk_amt              0\n",
              "6-month_chbk_freq                 0\n",
              "isFradulent                       0\n",
              "dtype: int64"
            ]
          },
          "metadata": {
            "tags": []
          },
          "execution_count": 6
        }
      ]
    },
    {
      "cell_type": "code",
      "metadata": {
        "id": "_QW9-sIH-0Hj",
        "colab_type": "code",
        "outputId": "22176929-b165-4c97-b7ea-fdccc4b325fa",
        "colab": {
          "base_uri": "https://localhost:8080/",
          "height": 329
        }
      },
      "source": [
        "df.info()"
      ],
      "execution_count": 0,
      "outputs": [
        {
          "output_type": "stream",
          "text": [
            "<class 'pandas.core.frame.DataFrame'>\n",
            "RangeIndex: 3075 entries, 0 to 3074\n",
            "Data columns (total 11 columns):\n",
            " #   Column                          Non-Null Count  Dtype  \n",
            "---  ------                          --------------  -----  \n",
            " 0   Merchant_id                     3075 non-null   int64  \n",
            " 1   Average Amount/transaction/day  3075 non-null   float64\n",
            " 2   Transaction_amount              3075 non-null   float64\n",
            " 3   Is declined                     3075 non-null   object \n",
            " 4   Total Number of declines/day    3075 non-null   int64  \n",
            " 5   isForeignTransaction            3075 non-null   object \n",
            " 6   isHighRiskCountry               3075 non-null   object \n",
            " 7   Daily_chargeback_avg_amt        3075 non-null   int64  \n",
            " 8   6_month_avg_chbk_amt            3075 non-null   float64\n",
            " 9   6-month_chbk_freq               3075 non-null   int64  \n",
            " 10  isFradulent                     3075 non-null   object \n",
            "dtypes: float64(3), int64(4), object(4)\n",
            "memory usage: 264.4+ KB\n"
          ],
          "name": "stdout"
        }
      ]
    },
    {
      "cell_type": "code",
      "metadata": {
        "id": "E41GkBqe-0Hn",
        "colab_type": "code",
        "outputId": "9d8907cd-4341-4878-e420-c71a7ca4d45c",
        "colab": {
          "base_uri": "https://localhost:8080/",
          "height": 69
        }
      },
      "source": [
        "df['Is declined'].value_counts()"
      ],
      "execution_count": 0,
      "outputs": [
        {
          "output_type": "execute_result",
          "data": {
            "text/plain": [
              "N    3018\n",
              "Y      57\n",
              "Name: Is declined, dtype: int64"
            ]
          },
          "metadata": {
            "tags": []
          },
          "execution_count": 8
        }
      ]
    },
    {
      "cell_type": "code",
      "metadata": {
        "id": "QFozNBlR-0Hq",
        "colab_type": "code",
        "outputId": "868e51bb-4db6-456d-dbba-b2a9d3eb61ac",
        "colab": {
          "base_uri": "https://localhost:8080/",
          "height": 69
        }
      },
      "source": [
        "df['isFradulent'].value_counts()"
      ],
      "execution_count": 0,
      "outputs": [
        {
          "output_type": "execute_result",
          "data": {
            "text/plain": [
              "N    2627\n",
              "Y     448\n",
              "Name: isFradulent, dtype: int64"
            ]
          },
          "metadata": {
            "tags": []
          },
          "execution_count": 9
        }
      ]
    },
    {
      "cell_type": "code",
      "metadata": {
        "id": "vnOujqOa-0Hu",
        "colab_type": "code",
        "outputId": "d1e3a682-a411-471f-d454-c566af0e75b7",
        "colab": {
          "base_uri": "https://localhost:8080/",
          "height": 69
        }
      },
      "source": [
        "df['isForeignTransaction'].value_counts()"
      ],
      "execution_count": 0,
      "outputs": [
        {
          "output_type": "execute_result",
          "data": {
            "text/plain": [
              "N    2369\n",
              "Y     706\n",
              "Name: isForeignTransaction, dtype: int64"
            ]
          },
          "metadata": {
            "tags": []
          },
          "execution_count": 10
        }
      ]
    },
    {
      "cell_type": "code",
      "metadata": {
        "id": "s_ZFkHuG-0Hx",
        "colab_type": "code",
        "colab": {}
      },
      "source": [
        "from sklearn import preprocessing\n",
        "le = preprocessing.LabelEncoder()\n",
        "df['isForeignTransaction'] = le.fit_transform(df['isForeignTransaction'])\n",
        "df['Is declined'] = le.fit_transform(df['Is declined'])\n",
        "df['isHighRiskCountry'] = le.fit_transform(df['isHighRiskCountry'])\n",
        "df['isFradulent'] = le.fit_transform(df['isFradulent'])"
      ],
      "execution_count": 0,
      "outputs": []
    },
    {
      "cell_type": "code",
      "metadata": {
        "id": "PfTzKZk8-0H0",
        "colab_type": "code",
        "outputId": "5030b492-f4b9-4ce6-e85a-eb8d113844bd",
        "colab": {
          "base_uri": "https://localhost:8080/",
          "height": 69
        }
      },
      "source": [
        "df['isForeignTransaction'].value_counts()"
      ],
      "execution_count": 0,
      "outputs": [
        {
          "output_type": "execute_result",
          "data": {
            "text/plain": [
              "0    2369\n",
              "1     706\n",
              "Name: isForeignTransaction, dtype: int64"
            ]
          },
          "metadata": {
            "tags": []
          },
          "execution_count": 12
        }
      ]
    },
    {
      "cell_type": "code",
      "metadata": {
        "id": "f6a7kNpF-0H3",
        "colab_type": "code",
        "outputId": "e453fd97-e7b8-4a81-fdd3-a3ce7ff6e9b3",
        "colab": {
          "base_uri": "https://localhost:8080/",
          "height": 69
        }
      },
      "source": [
        "df['isFradulent'].value_counts()"
      ],
      "execution_count": 0,
      "outputs": [
        {
          "output_type": "execute_result",
          "data": {
            "text/plain": [
              "0    2627\n",
              "1     448\n",
              "Name: isFradulent, dtype: int64"
            ]
          },
          "metadata": {
            "tags": []
          },
          "execution_count": 13
        }
      ]
    },
    {
      "cell_type": "code",
      "metadata": {
        "id": "ngycvWdh-0H6",
        "colab_type": "code",
        "outputId": "db5d62ee-9c38-4ec5-a3b0-c038c400ee97",
        "colab": {
          "base_uri": "https://localhost:8080/",
          "height": 257
        }
      },
      "source": [
        "df.head()"
      ],
      "execution_count": 0,
      "outputs": [
        {
          "output_type": "execute_result",
          "data": {
            "text/html": [
              "<div>\n",
              "<style scoped>\n",
              "    .dataframe tbody tr th:only-of-type {\n",
              "        vertical-align: middle;\n",
              "    }\n",
              "\n",
              "    .dataframe tbody tr th {\n",
              "        vertical-align: top;\n",
              "    }\n",
              "\n",
              "    .dataframe thead th {\n",
              "        text-align: right;\n",
              "    }\n",
              "</style>\n",
              "<table border=\"1\" class=\"dataframe\">\n",
              "  <thead>\n",
              "    <tr style=\"text-align: right;\">\n",
              "      <th></th>\n",
              "      <th>Merchant_id</th>\n",
              "      <th>Average Amount/transaction/day</th>\n",
              "      <th>Transaction_amount</th>\n",
              "      <th>Is declined</th>\n",
              "      <th>Total Number of declines/day</th>\n",
              "      <th>isForeignTransaction</th>\n",
              "      <th>isHighRiskCountry</th>\n",
              "      <th>Daily_chargeback_avg_amt</th>\n",
              "      <th>6_month_avg_chbk_amt</th>\n",
              "      <th>6-month_chbk_freq</th>\n",
              "      <th>isFradulent</th>\n",
              "    </tr>\n",
              "  </thead>\n",
              "  <tbody>\n",
              "    <tr>\n",
              "      <th>0</th>\n",
              "      <td>3160040998</td>\n",
              "      <td>100.0</td>\n",
              "      <td>3000.0</td>\n",
              "      <td>0</td>\n",
              "      <td>5</td>\n",
              "      <td>1</td>\n",
              "      <td>1</td>\n",
              "      <td>0</td>\n",
              "      <td>0.0</td>\n",
              "      <td>0</td>\n",
              "      <td>1</td>\n",
              "    </tr>\n",
              "    <tr>\n",
              "      <th>1</th>\n",
              "      <td>3160040998</td>\n",
              "      <td>100.0</td>\n",
              "      <td>4300.0</td>\n",
              "      <td>0</td>\n",
              "      <td>5</td>\n",
              "      <td>1</td>\n",
              "      <td>1</td>\n",
              "      <td>0</td>\n",
              "      <td>0.0</td>\n",
              "      <td>0</td>\n",
              "      <td>1</td>\n",
              "    </tr>\n",
              "    <tr>\n",
              "      <th>2</th>\n",
              "      <td>3160041896</td>\n",
              "      <td>185.5</td>\n",
              "      <td>4823.0</td>\n",
              "      <td>1</td>\n",
              "      <td>5</td>\n",
              "      <td>0</td>\n",
              "      <td>0</td>\n",
              "      <td>0</td>\n",
              "      <td>0.0</td>\n",
              "      <td>0</td>\n",
              "      <td>1</td>\n",
              "    </tr>\n",
              "    <tr>\n",
              "      <th>3</th>\n",
              "      <td>3160141996</td>\n",
              "      <td>185.5</td>\n",
              "      <td>5008.5</td>\n",
              "      <td>1</td>\n",
              "      <td>8</td>\n",
              "      <td>0</td>\n",
              "      <td>0</td>\n",
              "      <td>0</td>\n",
              "      <td>0.0</td>\n",
              "      <td>0</td>\n",
              "      <td>1</td>\n",
              "    </tr>\n",
              "    <tr>\n",
              "      <th>4</th>\n",
              "      <td>3160241992</td>\n",
              "      <td>500.0</td>\n",
              "      <td>26000.0</td>\n",
              "      <td>0</td>\n",
              "      <td>0</td>\n",
              "      <td>1</td>\n",
              "      <td>1</td>\n",
              "      <td>800</td>\n",
              "      <td>677.2</td>\n",
              "      <td>6</td>\n",
              "      <td>1</td>\n",
              "    </tr>\n",
              "  </tbody>\n",
              "</table>\n",
              "</div>"
            ],
            "text/plain": [
              "   Merchant_id  Average Amount/transaction/day  ...  6-month_chbk_freq  isFradulent\n",
              "0   3160040998                           100.0  ...                  0            1\n",
              "1   3160040998                           100.0  ...                  0            1\n",
              "2   3160041896                           185.5  ...                  0            1\n",
              "3   3160141996                           185.5  ...                  0            1\n",
              "4   3160241992                           500.0  ...                  6            1\n",
              "\n",
              "[5 rows x 11 columns]"
            ]
          },
          "metadata": {
            "tags": []
          },
          "execution_count": 14
        }
      ]
    },
    {
      "cell_type": "code",
      "metadata": {
        "id": "HEpLqy-UC3I_",
        "colab_type": "code",
        "outputId": "ce2df208-6c8a-42fd-99d8-9cd5e914f51c",
        "colab": {
          "base_uri": "https://localhost:8080/",
          "height": 104
        }
      },
      "source": [
        "df.columns"
      ],
      "execution_count": 0,
      "outputs": [
        {
          "output_type": "execute_result",
          "data": {
            "text/plain": [
              "Index(['Merchant_id', 'Average Amount/transaction/day', 'Transaction_amount',\n",
              "       'Is declined', 'Total Number of declines/day', 'isForeignTransaction',\n",
              "       'isHighRiskCountry', 'Daily_chargeback_avg_amt', '6_month_avg_chbk_amt',\n",
              "       '6-month_chbk_freq', 'isFradulent'],\n",
              "      dtype='object')"
            ]
          },
          "metadata": {
            "tags": []
          },
          "execution_count": 15
        }
      ]
    },
    {
      "cell_type": "code",
      "metadata": {
        "id": "9p-N56PB-0H-",
        "colab_type": "code",
        "outputId": "c5b8a524-ce03-4f20-9922-37f1cdfd208a",
        "colab": {
          "base_uri": "https://localhost:8080/",
          "height": 507
        }
      },
      "source": [
        "df.hist()"
      ],
      "execution_count": 0,
      "outputs": [
        {
          "output_type": "execute_result",
          "data": {
            "text/plain": [
              "array([[<matplotlib.axes._subplots.AxesSubplot object at 0x7f880dde71d0>,\n",
              "        <matplotlib.axes._subplots.AxesSubplot object at 0x7f880dd3b470>,\n",
              "        <matplotlib.axes._subplots.AxesSubplot object at 0x7f880dd6f6d8>],\n",
              "       [<matplotlib.axes._subplots.AxesSubplot object at 0x7f880dd1f940>,\n",
              "        <matplotlib.axes._subplots.AxesSubplot object at 0x7f880dcceba8>,\n",
              "        <matplotlib.axes._subplots.AxesSubplot object at 0x7f880dc82e10>],\n",
              "       [<matplotlib.axes._subplots.AxesSubplot object at 0x7f880dc3e0b8>,\n",
              "        <matplotlib.axes._subplots.AxesSubplot object at 0x7f880dc6e2e8>,\n",
              "        <matplotlib.axes._subplots.AxesSubplot object at 0x7f880dc6e358>],\n",
              "       [<matplotlib.axes._subplots.AxesSubplot object at 0x7f880dbce7f0>,\n",
              "        <matplotlib.axes._subplots.AxesSubplot object at 0x7f880db80a58>,\n",
              "        <matplotlib.axes._subplots.AxesSubplot object at 0x7f880db33cc0>]],\n",
              "      dtype=object)"
            ]
          },
          "metadata": {
            "tags": []
          },
          "execution_count": 16
        },
        {
          "output_type": "display_data",
          "data": {
            "image/png": "[encoded data removed]",
            "text/plain": [
              "<Figure size 432x288 with 12 Axes>"
            ]
          },
          "metadata": {
            "tags": [],
            "needs_background": "light"
          }
        }
      ]
    },
    {
      "cell_type": "code",
      "metadata": {
        "id": "Cf7WJP9MA5gO",
        "colab_type": "code",
        "outputId": "59805698-5b26-4b51-b767-38cad3413df3",
        "colab": {
          "base_uri": "https://localhost:8080/",
          "height": 353
        }
      },
      "source": [
        "import seaborn as sns\n",
        "import matplotlib.pyplot as plt\n",
        "\n",
        "x=df['isFradulent'].value_counts().values\n",
        "sns.barplot(['Not fraud','fraud'],x)\n",
        "plt.title('Target variable count')"
      ],
      "execution_count": 0,
      "outputs": [
        {
          "output_type": "stream",
          "text": [
            "/usr/local/lib/python3.6/dist-packages/statsmodels/tools/_testing.py:19: FutureWarning: pandas.util.testing is deprecated. Use the functions in the public API at pandas.testing instead.\n",
            "  import pandas.util.testing as tm\n"
          ],
          "name": "stderr"
        },
        {
          "output_type": "execute_result",
          "data": {
            "text/plain": [
              "Text(0.5, 1.0, 'Target variable count')"
            ]
          },
          "metadata": {
            "tags": []
          },
          "execution_count": 17
        },
        {
          "output_type": "display_data",
          "data": {
            "image/png": "[encoded data removed]",
            "text/plain": [
              "<Figure size 432x288 with 1 Axes>"
            ]
          },
          "metadata": {
            "tags": [],
            "needs_background": "light"
          }
        }
      ]
    },
    {
      "cell_type": "code",
      "metadata": {
        "id": "VxBnCIzJ-0IA",
        "colab_type": "code",
        "outputId": "88a5e8af-086a-4afc-a1ed-a5ffee73aa90",
        "colab": {
          "base_uri": "https://localhost:8080/",
          "height": 35
        }
      },
      "source": [
        "X = df.drop(['isFradulent'],axis=1)\n",
        "y = df['isFradulent']\n",
        "X_train, X_test, y_train, y_test = train_test_split(X, y, test_size=0.20, random_state=42)\n",
        "X_train.shape, y_train.shape,X_test.shape,y_test.shape"
      ],
      "execution_count": 0,
      "outputs": [
        {
          "output_type": "execute_result",
          "data": {
            "text/plain": [
              "((2460, 10), (2460,), (615, 10), (615,))"
            ]
          },
          "metadata": {
            "tags": []
          },
          "execution_count": 18
        }
      ]
    },
    {
      "cell_type": "code",
      "metadata": {
        "id": "Tn3ukaNsDBgl",
        "colab_type": "code",
        "outputId": "c7043cf9-81d2-4858-fca2-a73b8c90a238",
        "colab": {
          "base_uri": "https://localhost:8080/",
          "height": 104
        }
      },
      "source": [
        "X_train.columns"
      ],
      "execution_count": 0,
      "outputs": [
        {
          "output_type": "execute_result",
          "data": {
            "text/plain": [
              "Index(['Merchant_id', 'Average Amount/transaction/day', 'Transaction_amount',\n",
              "       'Is declined', 'Total Number of declines/day', 'isForeignTransaction',\n",
              "       'isHighRiskCountry', 'Daily_chargeback_avg_amt', '6_month_avg_chbk_amt',\n",
              "       '6-month_chbk_freq'],\n",
              "      dtype='object')"
            ]
          },
          "metadata": {
            "tags": []
          },
          "execution_count": 19
        }
      ]
    },
    {
      "cell_type": "code",
      "metadata": {
        "id": "EasQyeQIDapS",
        "colab_type": "code",
        "outputId": "d5c319bc-e2b2-4188-e3a7-8b4b6ea62dba",
        "colab": {
          "base_uri": "https://localhost:8080/",
          "height": 104
        }
      },
      "source": [
        "X.columns"
      ],
      "execution_count": 0,
      "outputs": [
        {
          "output_type": "execute_result",
          "data": {
            "text/plain": [
              "Index(['Merchant_id', 'Average Amount/transaction/day', 'Transaction_amount',\n",
              "       'Is declined', 'Total Number of declines/day', 'isForeignTransaction',\n",
              "       'isHighRiskCountry', 'Daily_chargeback_avg_amt', '6_month_avg_chbk_amt',\n",
              "       '6-month_chbk_freq'],\n",
              "      dtype='object')"
            ]
          },
          "metadata": {
            "tags": []
          },
          "execution_count": 20
        }
      ]
    },
    {
      "cell_type": "code",
      "metadata": {
        "id": "2i1l-wJu-0ID",
        "colab_type": "code",
        "colab": {}
      },
      "source": [
        "#df_main = X_train\n",
        "#df_main['isFradulent'] = y_train\n",
        "df_new=pd.concat([X_train,y_train],axis=1)"
      ],
      "execution_count": 0,
      "outputs": []
    },
    {
      "cell_type": "code",
      "metadata": {
        "id": "leoOhjjs-0IG",
        "colab_type": "code",
        "outputId": "277b7c98-6025-4597-cddf-ede0922e7cd7",
        "colab": {
          "base_uri": "https://localhost:8080/",
          "height": 69
        }
      },
      "source": [
        "df_new.head()\n",
        "df_new.shape\n",
        "df_new['isFradulent'].value_counts()\n"
      ],
      "execution_count": 0,
      "outputs": [
        {
          "output_type": "execute_result",
          "data": {
            "text/plain": [
              "0    2115\n",
              "1     345\n",
              "Name: isFradulent, dtype: int64"
            ]
          },
          "metadata": {
            "tags": []
          },
          "execution_count": 22
        }
      ]
    },
    {
      "cell_type": "markdown",
      "metadata": {
        "id": "itbDgqWqXo7s",
        "colab_type": "text"
      },
      "source": [
        "## SMOTE"
      ]
    },
    {
      "cell_type": "code",
      "metadata": {
        "id": "WJEbM3Oh-0Ii",
        "colab_type": "code",
        "outputId": "f6595600-7754-4299-83d4-073a8b3bdf22",
        "colab": {
          "base_uri": "https://localhost:8080/",
          "height": 141
        }
      },
      "source": [
        "from imblearn.over_sampling import SMOTE \n",
        "sm = SMOTE(sampling_strategy='auto', random_state=None,k_neighbors=3)\n",
        "X_train_res, y_train_res = sm.fit_sample(X, y) "
      ],
      "execution_count": 0,
      "outputs": [
        {
          "output_type": "stream",
          "text": [
            "/usr/local/lib/python3.6/dist-packages/sklearn/externals/six.py:31: FutureWarning: The module is deprecated in version 0.21 and will be removed in version 0.23 since we've dropped support for Python 2.7. Please rely on the official version of six (https://pypi.org/project/six/).\n",
            "  \"(https://pypi.org/project/six/).\", FutureWarning)\n",
            "/usr/local/lib/python3.6/dist-packages/sklearn/utils/deprecation.py:144: FutureWarning: The sklearn.neighbors.base module is  deprecated in version 0.22 and will be removed in version 0.24. The corresponding classes / functions should instead be imported from sklearn.neighbors. Anything that cannot be imported from sklearn.neighbors is now part of the private API.\n",
            "  warnings.warn(message, FutureWarning)\n",
            "/usr/local/lib/python3.6/dist-packages/sklearn/utils/deprecation.py:87: FutureWarning: Function safe_indexing is deprecated; safe_indexing is deprecated in version 0.22 and will be removed in version 0.24.\n",
            "  warnings.warn(msg, category=FutureWarning)\n"
          ],
          "name": "stderr"
        }
      ]
    },
    {
      "cell_type": "code",
      "metadata": {
        "id": "Vv_OI-N9-0Im",
        "colab_type": "code",
        "outputId": "6b343482-cda2-4ee2-9633-c347c2800e29",
        "colab": {
          "base_uri": "https://localhost:8080/",
          "height": 52
        }
      },
      "source": [
        "print(\"After applying SMOTE, counts '1': {}\".format(sum(y_train_res == 1))) \n",
        "print(\"After applying SMOTE, counts '0': {}\".format(sum(y_train_res == 0))) \n"
      ],
      "execution_count": 0,
      "outputs": [
        {
          "output_type": "stream",
          "text": [
            "After applying SMOTE, counts '1': 2627\n",
            "After applying SMOTE, counts '0': 2627\n"
          ],
          "name": "stdout"
        }
      ]
    },
    {
      "cell_type": "code",
      "metadata": {
        "id": "0E59R5Hy_JO_",
        "colab_type": "code",
        "outputId": "983af297-d94b-4881-a6c8-99d293386ce9",
        "colab": {
          "base_uri": "https://localhost:8080/",
          "height": 35
        }
      },
      "source": [
        "from sklearn.datasets import load_iris\n",
        "from sklearn.linear_model import LogisticRegression\n",
        "\n",
        "clf = LogisticRegression(random_state=123).fit(X_train_res, y_train_res)\n",
        "#clf.predict(X_test)\n",
        "clf.score(X_test, y_test)\n",
        "clf.score(X_train_res, y_test_res)"
      ],
      "execution_count": 0,
      "outputs": [
        {
          "output_type": "execute_result",
          "data": {
            "text/plain": [
              "0.16747967479674797"
            ]
          },
          "metadata": {
            "tags": []
          },
          "execution_count": 28
        }
      ]
    },
    {
      "cell_type": "code",
      "metadata": {
        "id": "8EU1OC2jBVeE",
        "colab_type": "code",
        "outputId": "89e84738-4888-4dda-d351-45063df5f112",
        "colab": {
          "base_uri": "https://localhost:8080/",
          "height": 35
        }
      },
      "source": [
        "clf = LogisticRegression(random_state=123).fit(X_train, y_train)\n",
        "clf.predict(X_test)\n",
        "\n",
        "clf.score(X_test, y_test)"
      ],
      "execution_count": 0,
      "outputs": [
        {
          "output_type": "execute_result",
          "data": {
            "text/plain": [
              "0.832520325203252"
            ]
          },
          "metadata": {
            "tags": []
          },
          "execution_count": 36
        }
      ]
    },
    {
      "cell_type": "code",
      "metadata": {
        "id": "W1gCiGxIBwyd",
        "colab_type": "code",
        "outputId": "636b2195-75cd-418f-a594-9b050b1f653a",
        "colab": {
          "base_uri": "https://localhost:8080/",
          "height": 69
        }
      },
      "source": [
        "y_test.value_counts()"
      ],
      "execution_count": 0,
      "outputs": [
        {
          "output_type": "execute_result",
          "data": {
            "text/plain": [
              "0    512\n",
              "1    103\n",
              "Name: isFradulent, dtype: int64"
            ]
          },
          "metadata": {
            "tags": []
          },
          "execution_count": 33
        }
      ]
    },
    {
      "cell_type": "code",
      "metadata": {
        "id": "vc3fjnfRElxQ",
        "colab_type": "code",
        "outputId": "179c312b-164a-4bc7-bebf-80a3efbb4f7a",
        "colab": {
          "base_uri": "https://localhost:8080/",
          "height": 35
        }
      },
      "source": [
        "from sklearn.metrics import accuracy_score\n",
        "from sklearn import linear_model\n",
        "#from sklearn.tree import DecisionTreeClassifier\n",
        "cart = linear_model.LogisticRegression()\n",
        "cart.fit(X_train,y_train)\n",
        "predictions = cart.predict(X_train)\n",
        "accuracy_LR = accuracy_score(predictions,y_train)\n",
        "print(accuracy_LR)"
      ],
      "execution_count": 0,
      "outputs": [
        {
          "output_type": "stream",
          "text": [
            "0.8597560975609756\n"
          ],
          "name": "stdout"
        }
      ]
    },
    {
      "cell_type": "code",
      "metadata": {
        "id": "zvFT86Q6EyKx",
        "colab_type": "code",
        "outputId": "ba4cb1c0-3d58-4c99-8e78-2873d9045b60",
        "colab": {
          "base_uri": "https://localhost:8080/",
          "height": 35
        }
      },
      "source": [
        "predictions = cart.predict(X_test)\n",
        "accuracy_LR = accuracy_score(predictions,y_test)\n",
        "print(accuracy_LR)"
      ],
      "execution_count": 0,
      "outputs": [
        {
          "output_type": "stream",
          "text": [
            "0.832520325203252\n"
          ],
          "name": "stdout"
        }
      ]
    },
    {
      "cell_type": "code",
      "metadata": {
        "id": "9Hs8lySnE7fu",
        "colab_type": "code",
        "colab": {}
      },
      "source": [
        ""
      ],
      "execution_count": 0,
      "outputs": []
    }
  ]
}